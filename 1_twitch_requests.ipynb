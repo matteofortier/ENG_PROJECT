{
 "cells": [
  {
   "cell_type": "code",
   "execution_count": 11,
   "id": "57cacd1e-d8d9-43be-a59e-66e8040614b0",
   "metadata": {},
   "outputs": [],
   "source": [
    "import datetime\n",
    "import twitch\n",
    "from itertools import islice\n",
    "from pymongo import MongoClient\n",
    "\n",
    "mongo_client = MongoClient()"
   ]
  },
  {
   "cell_type": "code",
   "execution_count": 12,
   "id": "9d2fcf6f-f7db-4d0c-8636-ac5b603a3e47",
   "metadata": {},
   "outputs": [],
   "source": [
    "# RESET DB\n",
    "mongo_client.drop_database('twitch')"
   ]
  },
  {
   "cell_type": "code",
   "execution_count": 13,
   "id": "a45976d0-234d-4b6d-95ac-198fc22b45a6",
   "metadata": {},
   "outputs": [],
   "source": [
    "twitch_client = twitch.TwitchHelix(client_id='efo5rjmg6na3wpjs5ciptmnzx6p4bs', \n",
    "                            client_secret='w1irngceaw9sblt7xk00z5dvt2f2eu', \n",
    "                            scopes=[twitch.constants.OAUTH_SCOPE_ANALYTICS_READ_EXTENSIONS]) \n",
    "twitch_client.get_oauth()\n",
    "response = twitch_client.get_streams(page_size=100)"
   ]
  },
  {
   "cell_type": "code",
   "execution_count": 14,
   "id": "53145c55-3743-43a4-9086-b8e1b47df320",
   "metadata": {},
   "outputs": [],
   "source": [
    "db = mongo_client.twitch\n",
    "streams = db.streams"
   ]
  },
  {
   "cell_type": "code",
   "execution_count": 15,
   "id": "24fda96e-9162-4360-ac12-bdf7f99ca8c6",
   "metadata": {},
   "outputs": [],
   "source": [
    "streams_iterator = islice(response, 0, 110)\n",
    "def add_date(document):\n",
    "    document.update({'date': datetime.datetime.utcnow()})\n",
    "    return document\n",
    "\n",
    "streams_data = [dict(add_date(item)) for item in streams_iterator]\n",
    "    "
   ]
  },
  {
   "cell_type": "code",
   "execution_count": null,
   "id": "f54759a2-88da-4d0b-a3c1-23d2e34f36cd",
   "metadata": {},
   "outputs": [],
   "source": [
    "print(len(streams_data))\n",
    "streams_data"
   ]
  },
  {
   "cell_type": "code",
   "execution_count": 17,
   "id": "d4c8bde6-a912-484d-abaf-bf1658a42ec9",
   "metadata": {},
   "outputs": [
    {
     "data": {
      "text/plain": [
       "<pymongo.results.InsertManyResult at 0x7fc75385f480>"
      ]
     },
     "execution_count": 17,
     "metadata": {},
     "output_type": "execute_result"
    }
   ],
   "source": [
    "streams.insert_many(streams_data,ordered=False)"
   ]
  },
  {
   "cell_type": "code",
   "execution_count": null,
   "id": "138417f9-96d3-4ea9-bc76-3fb3a662ec68",
   "metadata": {},
   "outputs": [],
   "source": [
    "list(streams.find({}))"
   ]
  },
  {
   "cell_type": "code",
   "execution_count": null,
   "id": "a8e72435-8dfb-4e28-a75f-27c544e43885",
   "metadata": {},
   "outputs": [],
   "source": [
    "response[0]"
   ]
  },
  {
   "cell_type": "code",
   "execution_count": null,
   "id": "41cff3dc-63a9-493c-9e59-83fc6561463f",
   "metadata": {},
   "outputs": [],
   "source": []
  },
  {
   "cell_type": "code",
   "execution_count": null,
   "id": "d2777953-728f-4f4b-b711-b102675cd2c7",
   "metadata": {},
   "outputs": [],
   "source": [
    "list(response)"
   ]
  },
  {
   "cell_type": "code",
   "execution_count": null,
   "id": "834dc222-77f1-42cb-aea7-45c960f313ac",
   "metadata": {},
   "outputs": [],
   "source": []
  }
 ],
 "metadata": {
  "kernelspec": {
   "display_name": "Python 3 (ipykernel)",
   "language": "python",
   "name": "python3"
  },
  "language_info": {
   "codemirror_mode": {
    "name": "ipython",
    "version": 3
   },
   "file_extension": ".py",
   "mimetype": "text/x-python",
   "name": "python",
   "nbconvert_exporter": "python",
   "pygments_lexer": "ipython3",
   "version": "3.8.10"
  }
 },
 "nbformat": 4,
 "nbformat_minor": 5
}
